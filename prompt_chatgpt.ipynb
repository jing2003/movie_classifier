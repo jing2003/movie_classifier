{
 "cells": [
  {
   "cell_type": "markdown",
   "metadata": {
    "id": "xUDyQ5Bk3z9J"
   },
   "source": [
    "# Introduction to The ChatGPT APIs"
   ]
  },
  {
   "cell_type": "markdown",
   "metadata": {
    "id": "N0eALwUV3z9L"
   },
   "source": [
    "Install or update the OpenAI Python library first. [API reference](https://platform.openai.com/docs/api-reference)"
   ]
  },
  {
   "cell_type": "code",
   "execution_count": 1,
   "metadata": {
    "colab": {
     "base_uri": "https://localhost:8080/"
    },
    "id": "24AkJ4sy3z9L",
    "outputId": "9b77e3b9-c12d-4d44-d206-6787c3875c35"
   },
   "outputs": [],
   "source": [
    "!pip install -q openai python-dotenv"
   ]
  },
  {
   "cell_type": "markdown",
   "metadata": {
    "id": "3r6rRV9H3z9M"
   },
   "source": [
    "You'll need to get an OpenAI API Key here: https://platform.openai.com/account/api-keys. Treat it like a secret password."
   ]
  },
  {
   "cell_type": "code",
   "execution_count": 2,
   "metadata": {},
   "outputs": [],
   "source": [
    "import openai\n",
    "import os\n",
    "import IPython\n",
    "openai.api_key = 'OPENAI_API_KEY'\n",
    "\n",
    "# from dotenv import load_dotenv\n",
    "# load_dotenv()\n",
    "# openai.api_key = os.getenv(\"OPENAI_API_KEY\")"
   ]
  },
  {
   "cell_type": "markdown",
   "metadata": {
    "id": "3r6rRV9H3z9M"
   },
   "source": [
    "To load environment variables, you can use anything you like but we used `python-dotenv`. Just create a `.env` file with your `OPENAI_API_KEY` then load it."
   ]
  },
  {
   "cell_type": "markdown",
   "metadata": {
    "id": "3r6rRV9H3z9M"
   },
   "source": [
    "Importing more libraries and packages"
   ]
  },
  {
   "cell_type": "code",
   "execution_count": 3,
   "metadata": {},
   "outputs": [],
   "source": [
    "import pandas as pd\n",
    "import numpy as np\n",
    "import matplotlib.pyplot as plt"
   ]
  },
  {
   "cell_type": "markdown",
   "metadata": {
    "id": "3r6rRV9H3z9M"
   },
   "source": [
    "Import the data into a dataframe"
   ]
  },
  {
   "cell_type": "code",
   "execution_count": 4,
   "metadata": {},
   "outputs": [],
   "source": [
    "action_movie = pd.read_csv('action.csv')\n",
    "family_movie = pd.read_csv('family.csv')\n",
    "horror_movie = pd.read_csv('horror.csv')\n",
    "romance_movie = pd.read_csv('romance.csv')\n",
    "scifi_movie = pd.read_csv('scifi.csv')"
   ]
  },
  {
   "cell_type": "markdown",
   "metadata": {
    "id": "3r6rRV9H3z9M"
   },
   "source": [
    "Make sure the genre column only have one primarily genre"
   ]
  },
  {
   "cell_type": "code",
   "execution_count": 5,
   "metadata": {},
   "outputs": [],
   "source": [
    "action_movie['genre'] = 'Action'\n",
    "family_movie['genre'] = 'Family'\n",
    "horror_movie['genre'] = 'Horror'\n",
    "romance_movie['genre'] = 'Romance'\n",
    "scifi_movie['genre'] = 'Sci-Fi'"
   ]
  },
  {
   "cell_type": "markdown",
   "metadata": {
    "id": "3r6rRV9H3z9M"
   },
   "source": [
    "Concatenate all dataframes"
   ]
  },
  {
   "cell_type": "code",
   "execution_count": 6,
   "metadata": {},
   "outputs": [],
   "source": [
    "df = pd.concat([action_movie, family_movie, horror_movie, romance_movie, scifi_movie])"
   ]
  },
  {
   "cell_type": "markdown",
   "metadata": {
    "id": "3r6rRV9H3z9M"
   },
   "source": [
    "Take a look at the number of genres:"
   ]
  },
  {
   "cell_type": "code",
   "execution_count": 7,
   "metadata": {},
   "outputs": [
    {
     "data": {
      "text/plain": [
       "(array([52452.,     0., 17095.,     0.,     0., 36682.,     0., 52617.,\n",
       "            0., 16557.]),\n",
       " array([0. , 0.4, 0.8, 1.2, 1.6, 2. , 2.4, 2.8, 3.2, 3.6, 4. ]),\n",
       " <BarContainer object of 10 artists>)"
      ]
     },
     "execution_count": 7,
     "metadata": {},
     "output_type": "execute_result"
    },
    {
     "data": {
      "image/png": "[encoded data removed]",
      "text/plain": [
       "<Figure size 432x288 with 1 Axes>"
      ]
     },
     "metadata": {
      "needs_background": "light"
     },
     "output_type": "display_data"
    }
   ],
   "source": [
    "plt.hist(df.genre)"
   ]
  },
  {
   "cell_type": "markdown",
   "metadata": {
    "id": "xUDyQ5Bk3z9J"
   },
   "source": [
    "### Guide to Use ChatGPT"
   ]
  },
  {
   "cell_type": "markdown",
   "metadata": {
    "id": "qbsRizO23z9O"
   },
   "source": [
    "Choose a ChatGPT model that you want to try. We used \"gpt-3.5-turbo\""
   ]
  },
  {
   "cell_type": "code",
   "execution_count": 8,
   "metadata": {},
   "outputs": [],
   "source": [
    "MODEL = \"gpt-3.5-turbo\""
   ]
  },
  {
   "cell_type": "markdown",
   "metadata": {
    "id": "qbsRizO23z9O"
   },
   "source": [
    "Let's do a basic chat API call to learn about the chat format.\n",
    "\n",
    "The movie used for this example:\n",
    "\n",
    "Movie Name: 1917 \n",
    "\n",
    "Movie Year: 2019 \n",
    "\n",
    "Movie Genre: Action\n",
    "\n",
    "Plot Description: April 6th, 1917. As an infantry battalion assembles to wage war deep in enemy territory, two soldiers are assigned to race against time and deliver a message that will stop 1,600 men from walking straight into a deadly trap."
   ]
  },
  {
   "cell_type": "code",
   "execution_count": 9,
   "metadata": {
    "colab": {
     "base_uri": "https://localhost:8080/"
    },
    "id": "uR9t-zqq3z9O",
    "outputId": "d1424aef-43be-45d4-f20d-17ad22572d01"
   },
   "outputs": [],
   "source": [
    "CONTENT = \"\"\" Given this movie description:\n",
    "April 6th, 1917. As an infantry battalion assembles to wage war deep in enemy territory, two soldiers are assigned to race against time and deliver a message that will stop 1,600 men from walking straight into a deadly trap.\n",
    "\n",
    "The genre of the movie is: \n",
    "\"\"\"\n",
    "\n",
    "response = openai.ChatCompletion.create(\n",
    "    model=MODEL,\n",
    "    messages=[\n",
    "        {\"role\": \"user\", \"content\": CONTENT},\n",
    "    ],\n",
    "    temperature=0,\n",
    ")"
   ]
  },
  {
   "cell_type": "markdown",
   "metadata": {
    "id": "qbsRizO23z9O"
   },
   "source": [
    "Let's print the response:"
   ]
  },
  {
   "cell_type": "code",
   "execution_count": 10,
   "metadata": {},
   "outputs": [
    {
     "data": {
      "text/plain": [
       "<OpenAIObject chat.completion id=chatcmpl-7A3qbBZBKjVMfm25EthJJiQSlRTbn at 0x22896ecbea0> JSON: {\n",
       "  \"choices\": [\n",
       "    {\n",
       "      \"finish_reason\": \"stop\",\n",
       "      \"index\": 0,\n",
       "      \"message\": {\n",
       "        \"content\": \"War/Action/Drama.\",\n",
       "        \"role\": \"assistant\"\n",
       "      }\n",
       "    }\n",
       "  ],\n",
       "  \"created\": 1682632425,\n",
       "  \"id\": \"chatcmpl-7A3qbBZBKjVMfm25EthJJiQSlRTbn\",\n",
       "  \"model\": \"gpt-3.5-turbo-0301\",\n",
       "  \"object\": \"chat.completion\",\n",
       "  \"usage\": {\n",
       "    \"completion_tokens\": 6,\n",
       "    \"prompt_tokens\": 72,\n",
       "    \"total_tokens\": 78\n",
       "  }\n",
       "}"
      ]
     },
     "execution_count": 10,
     "metadata": {},
     "output_type": "execute_result"
    }
   ],
   "source": [
    "response"
   ]
  },
  {
   "cell_type": "code",
   "execution_count": 11,
   "metadata": {},
   "outputs": [
    {
     "data": {
      "text/plain": [
       "'War/Action/Drama.'"
      ]
     },
     "execution_count": 11,
     "metadata": {},
     "output_type": "execute_result"
    }
   ],
   "source": [
    "response['choices'][0]['message']['content']"
   ]
  },
  {
   "cell_type": "code",
   "execution_count": 12,
   "metadata": {},
   "outputs": [
    {
     "data": {
      "text/markdown": [
       "War/Action/Drama."
      ],
      "text/plain": [
       "<IPython.core.display.Markdown object>"
      ]
     },
     "execution_count": 12,
     "metadata": {},
     "output_type": "execute_result"
    }
   ],
   "source": [
    "# pretty format the response\n",
    "IPython.display.Markdown(response.choices[0]['message']['content'])"
   ]
  },
  {
   "cell_type": "markdown",
   "metadata": {
    "id": "qbsRizO23z9O"
   },
   "source": [
    "In this example, the response have multiple genres for a movie. Our goal is to have one primarily genre."
   ]
  },
  {
   "cell_type": "markdown",
   "metadata": {
    "id": "xUDyQ5Bk3z9J"
   },
   "source": [
    "### Zero-Shot Learning"
   ]
  },
  {
   "cell_type": "code",
   "execution_count": 13,
   "metadata": {
    "colab": {
     "base_uri": "https://localhost:8080/"
    },
    "id": "uR9t-zqq3z9O",
    "outputId": "d1424aef-43be-45d4-f20d-17ad22572d01"
   },
   "outputs": [
    {
     "data": {
      "text/markdown": [
       "War."
      ],
      "text/plain": [
       "<IPython.core.display.Markdown object>"
      ]
     },
     "execution_count": 13,
     "metadata": {},
     "output_type": "execute_result"
    }
   ],
   "source": [
    "CONTENT = \"\"\" Given this movie description:\n",
    "April 6th, 1917. As an infantry battalion assembles to wage war deep in enemy territory, two soldiers are assigned to race against time and deliver a message that will stop 1,600 men from walking straight into a deadly trap.\n",
    "\n",
    "The genre of the movie in one word is: \n",
    "\"\"\"\n",
    "\n",
    "response = openai.ChatCompletion.create(\n",
    "    model=MODEL,\n",
    "    messages=[\n",
    "        {\"role\": \"user\", \"content\": CONTENT},\n",
    "    ],\n",
    "    temperature=0,\n",
    ")\n",
    "\n",
    "IPython.display.Markdown(response.choices[0]['message']['content'])"
   ]
  },
  {
   "cell_type": "markdown",
   "metadata": {
    "id": "qbsRizO23z9O"
   },
   "source": [
    "Make sure that the model only respond with a genre that we chose (Action, Family, Horror, Romance, and Sci-Fi) for this project."
   ]
  },
  {
   "cell_type": "code",
   "execution_count": 14,
   "metadata": {
    "colab": {
     "base_uri": "https://localhost:8080/"
    },
    "id": "uR9t-zqq3z9O",
    "outputId": "d1424aef-43be-45d4-f20d-17ad22572d01"
   },
   "outputs": [
    {
     "data": {
      "text/markdown": [
       "Action."
      ],
      "text/plain": [
       "<IPython.core.display.Markdown object>"
      ]
     },
     "execution_count": 14,
     "metadata": {},
     "output_type": "execute_result"
    }
   ],
   "source": [
    "CONTENT = \"\"\" Given this movie description:\n",
    "April 6th, 1917. As an infantry battalion assembles to wage war deep in enemy territory, two soldiers are assigned to race against time and deliver a message that will stop 1,600 men from walking straight into a deadly trap.\n",
    "\n",
    "Classify the movie into one of the following genres: Action, Family, Horror, Romance, Sci-Fi.\n",
    "\"\"\"\n",
    "\n",
    "response = openai.ChatCompletion.create(\n",
    "    model=MODEL,\n",
    "    messages=[\n",
    "        {\"role\": \"user\", \"content\": CONTENT},\n",
    "    ],\n",
    "    temperature=0,\n",
    ")\n",
    "\n",
    "IPython.display.Markdown(response.choices[0]['message']['content'])"
   ]
  },
  {
   "cell_type": "markdown",
   "metadata": {
    "id": "qbsRizO23z9O"
   },
   "source": [
    "#### Let's take another look at a movie that the model should already know.\n",
    "\n",
    "Movie Name: Black Panther \n",
    "\n",
    "Movie Year: 2018 \n",
    "\n",
    "Movie Genre: Sci-Fi\n",
    "\n",
    "Plot Description: T'Challa, heir to the hidden but advanced kingdom of Wakanda, must step forward to lead his people into a new future and must confront a challenger from his country's past."
   ]
  },
  {
   "cell_type": "code",
   "execution_count": 15,
   "metadata": {},
   "outputs": [
    {
     "data": {
      "text/markdown": [
       "Sci-Fi."
      ],
      "text/plain": [
       "<IPython.core.display.Markdown object>"
      ]
     },
     "execution_count": 15,
     "metadata": {},
     "output_type": "execute_result"
    }
   ],
   "source": [
    "CONTENT = \"\"\"Given this description of a movie: \n",
    "T'Challa, heir to the hidden but advanced kingdom of Wakanda, must step forward to lead his people into a new future and must confront a challenger from his country's past.\n",
    "\n",
    "Classify this movie into one of the following genres: Action, Family, Horror, Romance, Sci-Fi.\n",
    "\"\"\"\n",
    "\n",
    "response = openai.ChatCompletion.create(\n",
    "    model=MODEL,\n",
    "    messages=[\n",
    "        {\"role\": \"user\", \"content\": CONTENT},\n",
    "    ],\n",
    "    temperature=0,\n",
    ")\n",
    "\n",
    "IPython.display.Markdown(response.choices[0]['message']['content'])"
   ]
  },
  {
   "cell_type": "code",
   "execution_count": 16,
   "metadata": {
    "colab": {
     "base_uri": "https://localhost:8080/"
    },
    "id": "uR9t-zqq3z9O",
    "outputId": "d1424aef-43be-45d4-f20d-17ad22572d01"
   },
   "outputs": [
    {
     "data": {
      "text/markdown": [
       "Black Panther is a superhero film that follows T'Challa, the newly crowned king of Wakanda, a technologically advanced African nation. T'Challa must navigate the challenges of ruling his people while also protecting the secret of Wakanda's true power from the outside world. When a dangerous enemy, Erik Killmonger, emerges and challenges T'Challa's claim to the throne, the Black Panther must team up with his allies, including his sister Shuri, his love interest Nakia, and the Dora Milaje, Wakanda's all-female special forces, to stop Killmonger and save Wakanda from destruction. Along the way, T'Challa learns important lessons about leadership, responsibility, and the true meaning of being a hero."
      ],
      "text/plain": [
       "<IPython.core.display.Markdown object>"
      ]
     },
     "execution_count": 16,
     "metadata": {},
     "output_type": "execute_result"
    }
   ],
   "source": [
    "CONTENT = \"\"\"The plot description of Black Panther is\"\"\"\n",
    "\n",
    "response = openai.ChatCompletion.create(\n",
    "    model=MODEL,\n",
    "    messages=[\n",
    "        {\"role\": \"user\", \"content\": CONTENT},\n",
    "    ],\n",
    "    temperature=0,\n",
    ")\n",
    "\n",
    "IPython.display.Markdown(response.choices[0]['message']['content'])"
   ]
  },
  {
   "cell_type": "markdown",
   "metadata": {
    "id": "qbsRizO23z9O"
   },
   "source": [
    "#### Let's take another look at a movie that the model do not know.\n",
    "\n",
    "Movie Name: Black Panther: Wakanda Forever\n",
    "\n",
    "Movie Year: 2022 \n",
    "\n",
    "Movie Genre: Action\n",
    "\n",
    "Plot Description: The people of Wakanda fight to protect their home from intervening world powers as they mourn the death of King T'Challa."
   ]
  },
  {
   "cell_type": "code",
   "execution_count": 17,
   "metadata": {},
   "outputs": [
    {
     "data": {
      "text/markdown": [
       "Action."
      ],
      "text/plain": [
       "<IPython.core.display.Markdown object>"
      ]
     },
     "execution_count": 17,
     "metadata": {},
     "output_type": "execute_result"
    }
   ],
   "source": [
    "CONTENT = \"\"\"Given this description of a movie: \n",
    "The people of Wakanda fight to protect their home from intervening world powers as they mourn the death of King T'Challa.\n",
    "\n",
    "Classify this movie into one of the following genres: Action, Family, Horror, Romance, Sci-Fi.\n",
    "\"\"\"\n",
    "\n",
    "response = openai.ChatCompletion.create(\n",
    "    model=MODEL,\n",
    "    messages=[\n",
    "        {\"role\": \"user\", \"content\": CONTENT},\n",
    "    ],\n",
    "    temperature=0,\n",
    ")\n",
    "\n",
    "IPython.display.Markdown(response.choices[0]['message']['content'])"
   ]
  },
  {
   "cell_type": "code",
   "execution_count": 18,
   "metadata": {},
   "outputs": [
    {
     "data": {
      "text/markdown": [
       "As an AI language model, I do not have access to the plot description of Black Panther: Wakanda Forever as it has not been released yet. However, it is known that the film will continue the story of the fictional African nation of Wakanda and its people following the death of King T'Challa, played by the late Chadwick Boseman. The film is expected to explore the impact of T'Challa's absence on Wakanda and its people, as well as introduce new characters and storylines."
      ],
      "text/plain": [
       "<IPython.core.display.Markdown object>"
      ]
     },
     "execution_count": 18,
     "metadata": {},
     "output_type": "execute_result"
    }
   ],
   "source": [
    "CONTENT = \"\"\"What is the plot description of Black Panther: Wakanda Forever.\"\"\"\n",
    "\n",
    "response = openai.ChatCompletion.create(\n",
    "    model=MODEL,\n",
    "    messages=[\n",
    "        {\"role\": \"user\", \"content\": CONTENT},\n",
    "    ],\n",
    "    temperature=0,\n",
    ")\n",
    "\n",
    "IPython.display.Markdown(response.choices[0]['message']['content'])"
   ]
  },
  {
   "cell_type": "markdown",
   "metadata": {
    "id": "qbsRizO23z9O"
   },
   "source": [
    "The model can predit the movie genre of a movie that is not in its training and the prediction is correction. The model is being honest about not knowing the movie \"Black Panther: Wakanda Forever\" and did not make up any plot description.\n",
    "\n",
    "#### Let's take a look at an interesting example\n",
    "\n",
    "Movie Name: Empire of Light\n",
    "\n",
    "Movie Year: 2022 \n",
    "\n",
    "Movie Genre: Romance\n",
    "\n",
    "Plot Description: A drama about the power of human connection during turbulent times, set in an English coastal town in the early 1980s."
   ]
  },
  {
   "cell_type": "code",
   "execution_count": 19,
   "metadata": {
    "id": "8SBsoCQh-3hX"
   },
   "outputs": [
    {
     "data": {
      "text/markdown": [
       "Genre: Drama."
      ],
      "text/plain": [
       "<IPython.core.display.Markdown object>"
      ]
     },
     "execution_count": 19,
     "metadata": {},
     "output_type": "execute_result"
    }
   ],
   "source": [
    "CONTENT = \"\"\"Given this description of a movie: \n",
    "A drama about the power of human connection during turbulent times, set in an English coastal town in the early 1980s.\n",
    "\n",
    "Classify this movie into one of the following genres: Action, Family, Horror, Romance, Sci-Fi.\n",
    "\"\"\"\n",
    "\n",
    "response = openai.ChatCompletion.create(\n",
    "    model=MODEL,\n",
    "    messages=[\n",
    "        {\"role\": \"user\", \"content\": CONTENT},\n",
    "    ],\n",
    "    temperature=0,\n",
    ")\n",
    "\n",
    "IPython.display.Markdown(response.choices[0]['message']['content'])"
   ]
  },
  {
   "cell_type": "code",
   "execution_count": 20,
   "metadata": {},
   "outputs": [
    {
     "data": {
      "text/markdown": [
       "The genre of this movie is Drama."
      ],
      "text/plain": [
       "<IPython.core.display.Markdown object>"
      ]
     },
     "execution_count": 20,
     "metadata": {},
     "output_type": "execute_result"
    }
   ],
   "source": [
    "CONTENT = \"\"\"Given this description of a movie: \n",
    "A drama about the power of human connection during turbulent times, set in an English coastal town in the early 1980s.\n",
    "\n",
    "Which genre does this movie belongs to? Pick one only from: Action, Family, Horror, Romance, or Sci-Fi.\n",
    "\"\"\"\n",
    "\n",
    "response = openai.ChatCompletion.create(\n",
    "    model=MODEL,\n",
    "    messages=[\n",
    "        {\"role\": \"user\", \"content\": CONTENT},\n",
    "    ],\n",
    "    temperature=0,\n",
    ")\n",
    "\n",
    "IPython.display.Markdown(response.choices[0]['message']['content'])"
   ]
  },
  {
   "cell_type": "code",
   "execution_count": 21,
   "metadata": {},
   "outputs": [
    {
     "data": {
      "text/markdown": [
       "unknown"
      ],
      "text/plain": [
       "<IPython.core.display.Markdown object>"
      ]
     },
     "execution_count": 21,
     "metadata": {},
     "output_type": "execute_result"
    }
   ],
   "source": [
    "CONTENT = \"\"\" \n",
    "You are a movie genre classifier. Given a description of a movie, you will return a number that represent the genre.\n",
    "0 = action\n",
    "1 = horror\n",
    "2 = family\n",
    "3 = romance\n",
    "4 = sci-fi\n",
    "5 = unknown\n",
    "\n",
    "Descriptiom: A drama about the power of human connection during turbulent times, set in an English coastal town in the early 1980s.\n",
    "Genre: \"\"\"\n",
    "\n",
    "response = openai.ChatCompletion.create(\n",
    "    model=MODEL,\n",
    "    messages=[\n",
    "        {\"role\": \"user\", \"content\": CONTENT},\n",
    "    ],\n",
    "    temperature=0,\n",
    ")\n",
    "\n",
    "IPython.display.Markdown(response.choices[0]['message']['content'])"
   ]
  },
  {
   "cell_type": "markdown",
   "metadata": {
    "id": "xUDyQ5Bk3z9J"
   },
   "source": [
    "### One-Shot Learning"
   ]
  },
  {
   "cell_type": "code",
   "execution_count": 22,
   "metadata": {},
   "outputs": [
    {
     "data": {
      "text/markdown": [
       "3"
      ],
      "text/plain": [
       "<IPython.core.display.Markdown object>"
      ]
     },
     "execution_count": 22,
     "metadata": {},
     "output_type": "execute_result"
    }
   ],
   "source": [
    "CONTENT = \"\"\" \n",
    "You are a movie genre classifier. Given a description of a movie, you will return a number that represent the genre.\n",
    "0 = action\n",
    "1 = horror\n",
    "2 = family\n",
    "3 = romance\n",
    "4 = sci-fi\n",
    "5 = unknown\n",
    "\n",
    "Description: Based on the true story, two homicide detectives track Martha Beck and Raymond Martinez Fernandez, a murderous pair known as the \"Lonely Hearts Killers\" who lured their victims through the personals.\n",
    "Genre: 5\n",
    "\n",
    "Descriptiom: A drama about the power of human connection during turbulent times, set in an English coastal town in the early 1980s.\n",
    "Genre: \"\"\"\n",
    "\n",
    "response = openai.ChatCompletion.create(\n",
    "    model=MODEL,\n",
    "    messages=[\n",
    "        {\"role\": \"user\", \"content\": CONTENT},\n",
    "    ],\n",
    "    temperature=0,\n",
    ")\n",
    "\n",
    "IPython.display.Markdown(response.choices[0]['message']['content'])"
   ]
  },
  {
   "cell_type": "markdown",
   "metadata": {
    "id": "xUDyQ5Bk3z9J"
   },
   "source": [
    "We successfully got the response we want!\n",
    "\n",
    "#### Let's take a look at another example\n",
    "\n",
    "Movie Name: The Watch\n",
    "\n",
    "Movie Year: 2012 \n",
    "\n",
    "Movie Genre: Sci-fi\n",
    "\n",
    "Plot Description: Four men who form a neighborhood watch group as a way to get out of their day-to-day family routines find themselves defending the Earth from an alien invasion."
   ]
  },
  {
   "cell_type": "code",
   "execution_count": 23,
   "metadata": {},
   "outputs": [
    {
     "data": {
      "text/markdown": [
       "4"
      ],
      "text/plain": [
       "<IPython.core.display.Markdown object>"
      ]
     },
     "execution_count": 23,
     "metadata": {},
     "output_type": "execute_result"
    }
   ],
   "source": [
    "CONTENT = \"\"\" \n",
    "You are a movie genre classifier. Given a description of a movie, you will return a number that represent the genre.\n",
    "0 = action\n",
    "1 = horror\n",
    "2 = family\n",
    "3 = romance\n",
    "4 = sci-fi\n",
    "5 = unknown\n",
    "\n",
    "Description: Two teenagers with cancer fall in love and go on a journey together to Amsterdam to meet their favorite author.\n",
    "Genre: 3\n",
    "\n",
    "Description: Four men who form a neighborhood watch group as a way to get out of their day-to-day family routines find themselves defending the Earth from an alien invasion.\n",
    "Genre: \"\"\"\n",
    "\n",
    "response = openai.ChatCompletion.create(\n",
    "    model=MODEL,\n",
    "    messages=[\n",
    "        {\"role\": \"user\", \"content\": CONTENT},\n",
    "    ],\n",
    "    temperature=0,\n",
    ")\n",
    "\n",
    "IPython.display.Markdown(response.choices[0]['message']['content'])"
   ]
  },
  {
   "cell_type": "markdown",
   "metadata": {
    "id": "xUDyQ5Bk3z9J"
   },
   "source": [
    "We got the response we want, but if we change the example to the same genre, the response changes."
   ]
  },
  {
   "cell_type": "code",
   "execution_count": 24,
   "metadata": {},
   "outputs": [
    {
     "data": {
      "text/markdown": [
       "0"
      ],
      "text/plain": [
       "<IPython.core.display.Markdown object>"
      ]
     },
     "execution_count": 24,
     "metadata": {},
     "output_type": "execute_result"
    }
   ],
   "source": [
    "CONTENT = \"\"\" \n",
    "You are a movie genre classifier. Given a description of a movie, you will return a number that represent the genre.\n",
    "0 = action\n",
    "1 = horror\n",
    "2 = family\n",
    "3 = romance\n",
    "4 = sci-fi\n",
    "5 = unknown\n",
    "\n",
    "Description: An astronaut is mistakenly presumed dead and left behind on Mars with only limited supplies, he must use this ingenuity to survive and find a way to communicate with Earth for rescue.\n",
    "Genre: 4\n",
    "\n",
    "Description: Four men who form a neighborhood watch group as a way to get out of their day-to-day family routines find themselves defending the Earth from an alien invasion.\n",
    "Genre: \"\"\"\n",
    "\n",
    "response = openai.ChatCompletion.create(\n",
    "    model=MODEL,\n",
    "    messages=[\n",
    "        {\"role\": \"user\", \"content\": CONTENT},\n",
    "    ],\n",
    "    temperature=0,\n",
    ")\n",
    "\n",
    "IPython.display.Markdown(response.choices[0]['message']['content'])"
   ]
  },
  {
   "cell_type": "markdown",
   "metadata": {
    "id": "xUDyQ5Bk3z9J"
   },
   "source": [
    "We think that the reason why the response changes is because there is not enough example for the model to learn. It's possible for the model to think that \"This genre is taken, I will chose another genre.\" So let's move onto few-shot learning."
   ]
  },
  {
   "cell_type": "markdown",
   "metadata": {
    "id": "xUDyQ5Bk3z9J"
   },
   "source": [
    "### Few-Shot Learning"
   ]
  },
  {
   "cell_type": "code",
   "execution_count": 25,
   "metadata": {},
   "outputs": [
    {
     "data": {
      "text/markdown": [
       "4"
      ],
      "text/plain": [
       "<IPython.core.display.Markdown object>"
      ]
     },
     "execution_count": 25,
     "metadata": {},
     "output_type": "execute_result"
    }
   ],
   "source": [
    "CONTENT = \"\"\" \n",
    "You are a movie genre classifier. Given a description of a movie, you will return a number that represent the genre.\n",
    "0 = action\n",
    "1 = horror\n",
    "2 = family\n",
    "3 = romance\n",
    "4 = sci-fi\n",
    "5 = unknown\n",
    "\n",
    "Description: A twin falls off a wagon and meets a mountain man who teaches her to spit tobacco for a living.\n",
    "Genre: 2\n",
    "\n",
    "Description: An orphaned boy enrolls in a school of wizardry, where he learns the truth about himself, his family and the terrible evil that haunts the magical world.\n",
    "Genre: 2\n",
    "\n",
    "Description: Based on the true story, two homicide detectives track Martha Beck and Raymond Martinez Fernandez, a murderous pair known as the \"Lonely Hearts Killers\" who lured their victims through the personals.\n",
    "Genre: 5\n",
    "\n",
    "Description: Two English comic book geeks traveling across the U.S. encounter an alien outside Area 51.\n",
    "Genre: 4\n",
    "\n",
    "Description: An astronaut is mistakenly presumed dead and left behind on Mars with only limited supplies, he must use this ingenuity to survive and find a way to communicate with Earth for rescue.\n",
    "Genre: 4\n",
    "\n",
    "Description: Four men who form a neighborhood watch group as a way to get out of their day-to-day family routines find themselves defending the Earth from an alien invasion.\n",
    "Genre: \"\"\"\n",
    "\n",
    "response = openai.ChatCompletion.create(\n",
    "    model=MODEL,\n",
    "    messages=[\n",
    "        {\"role\": \"user\", \"content\": CONTENT},\n",
    "    ],\n",
    "    temperature=0,\n",
    ")\n",
    "\n",
    "IPython.display.Markdown(response.choices[0]['message']['content'])"
   ]
  }
 ],
 "metadata": {
  "colab": {
   "provenance": []
  },
  "kernelspec": {
   "display_name": "Python 3 (ipykernel)",
   "language": "python",
   "name": "python3"
  },
  "language_info": {
   "codemirror_mode": {
    "name": "ipython",
    "version": 3
   },
   "file_extension": ".py",
   "mimetype": "text/x-python",
   "name": "python",
   "nbconvert_exporter": "python",
   "pygments_lexer": "ipython3",
   "version": "3.9.12"
  },
  "vscode": {
   "interpreter": {
    "hash": "f38e0373277d6f71ee44ee8fea5f1d408ad6999fda15d538a69a99a1665a839d"
   }
  }
 },
 "nbformat": 4,
 "nbformat_minor": 1
}
